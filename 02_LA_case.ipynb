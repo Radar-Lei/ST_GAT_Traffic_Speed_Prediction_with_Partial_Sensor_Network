{
  "cells": [
    {
      "cell_type": "markdown",
      "metadata": {
        "id": "XuXWJLEm2UWS"
      },
      "source": [
        "# Traffic Speed Prediction (LA case)\n",
        "by Da Lei"
      ]
    },
    {
      "cell_type": "markdown",
      "metadata": {
        "id": "GxG3DeP7HVLn"
      },
      "source": [
        "We will walk through the following steps: \n",
        "1.   Installation and Setup\n",
        "2.   Creating a dataloader\n",
        "3.   Building the Model\n",
        "4.   Creating train and evaluation functions\n",
        "5.   Train the model\n",
        "6.   Test the model\n",
        "\n"
      ]
    },
    {
      "cell_type": "markdown",
      "metadata": {
        "id": "67gOQITlCNQi"
      },
      "source": [
        "## Installation and setup"
      ]
    },
    {
      "cell_type": "markdown",
      "metadata": {
        "id": "MSaetj53YnT6"
      },
      "source": [
        "We recommend using a GPU for running our project.\n",
        "\n",
        "Please click `Runtime` and then `Change runtime type`. Then set the `hardware accelerator` to **GPU**."
      ]
    },
    {
      "cell_type": "code",
      "execution_count": 1,
      "metadata": {
        "colab": {
          "base_uri": "https://localhost:8080/"
        },
        "id": "OraOHb9w5-o_",
        "outputId": "d86fc26a-f32f-48f2-b6ce-620cd13e48fa"
      },
      "outputs": [
        {
          "name": "stdout",
          "output_type": "stream",
          "text": [
            "Using cuda\n",
            "1.12.1\n"
          ]
        },
        {
          "name": "stderr",
          "output_type": "stream",
          "text": [
            "d:\\ProgramData\\Anaconda3\\user\\envs\\torch\\lib\\site-packages\\tqdm\\auto.py:22: TqdmWarning: IProgress not found. Please update jupyter and ipywidgets. See https://ipywidgets.readthedocs.io/en/stable/user_install.html\n",
            "  from .autonotebook import tqdm as notebook_tqdm\n"
          ]
        }
      ],
      "source": [
        "import torch\n",
        "device = 'cuda' if torch.cuda.is_available() else 'cpu'\n",
        "print(f\"Using {device}\")\n",
        "print(torch.__version__)"
      ]
    },
    {
      "cell_type": "markdown",
      "metadata": {
        "id": "x207Q4T_C_w7"
      },
      "source": [
        "Install PyTorch, PyG, and other necessary python libraries"
      ]
    },
    {
      "cell_type": "markdown",
      "metadata": {
        "id": "Ok7A5EQM6VEU"
      },
      "source": [
        "Mount google for output directories"
      ]
    },
    {
      "cell_type": "code",
      "execution_count": 2,
      "metadata": {
        "id": "73mr6Vs2XvYs"
      },
      "outputs": [
        {
          "name": "stdout",
          "output_type": "stream",
          "text": [
            " Volume in drive D is New Volume\n",
            " Volume Serial Number is A472-BD04\n",
            "\n",
            " Directory of d:\\research\\ST_GAT_Traffic_Speed_Prediction_with_Partial_Sensor_Network\n",
            "\n",
            "10/07/2022  10:56 AM    <DIR>          .\n",
            "10/01/2022  02:53 AM    <DIR>          ..\n",
            "09/29/2022  07:06 PM                43 .gitattributes\n",
            "10/03/2022  01:56 PM                58 .gitignore\n",
            "10/01/2022  11:37 PM    <DIR>          __pycache__\n",
            "10/04/2022  03:53 AM         1,040,006 00_DataPreprocessing.ipynb\n",
            "10/06/2022  02:22 AM            39,201 01_ST_GAT_Traffic_Speed_Prediction_with_Partial_Sensor_Network_(Kowlong).ipynb\n",
            "10/10/2022  05:58 AM           126,483 02_LA_case.ipynb\n",
            "09/28/2022  05:55 AM    <DIR>          cache\n",
            "10/03/2022  10:15 PM    <DIR>          dataset\n",
            "09/27/2022  12:23 AM             1,480 feature_propagation.py\n",
            "10/03/2022  08:28 AM    <DIR>          figs\n",
            "09/27/2022  12:23 AM             2,448 filling_strategies.py\n",
            "09/28/2022  04:50 AM    <DIR>          HK_traffic_speed\n",
            "09/28/2022  04:05 AM     1,315,467,559 HK_traffic_speed.zip\n",
            "09/27/2022  12:23 AM           129,270 LA_case.ipynb\n",
            "09/28/2022  04:40 AM             2,218 multi_data.py\n",
            "10/07/2022  10:56 AM            62,803 predicted_times.png\n",
            "10/05/2022  10:27 AM    <DIR>          processed\n",
            "10/06/2022  01:35 AM    <DIR>          raw\n",
            "10/07/2022  11:05 AM    <DIR>          runs\n",
            "10/01/2022  10:38 PM             1,962 utils.py\n",
            "              12 File(s)  1,316,873,531 bytes\n",
            "              10 Dir(s)  1,469,301,182,464 bytes free\n"
          ]
        }
      ],
      "source": [
        "%ls"
      ]
    },
    {
      "cell_type": "markdown",
      "metadata": {
        "id": "nqOWp_S591MB"
      },
      "source": [
        "## Creating a Dataloader\n",
        "Now, we create a dataloader which will process data from `.csv` files into a PyTorch Geometric dataset. "
      ]
    },
    {
      "cell_type": "code",
      "execution_count": 3,
      "metadata": {
        "id": "TEKy_v5EFPMt"
      },
      "outputs": [],
      "source": [
        "import torch\n",
        "import numpy as np\n",
        "import pandas as pd\n",
        "import os\n",
        "from torch_geometric.data import InMemoryDataset, Data\n",
        "from shutil import copyfile\n",
        "\n",
        "# ipdb.set_trace()\n",
        "\n",
        "def distance_to_weight(W, sigma2=0.1, epsilon=0.5, gat_version=False):\n",
        "    \"\"\"\"\n",
        "    Given distances between all nodes, convert into a weight matrix\n",
        "    :param W distances\n",
        "    :param sigma2 User configurable parameter to adjust sparsity of matrix\n",
        "    :param epsilon User configurable parameter to adjust sparsity of matrix\n",
        "    :param gat_version If true, use 0/1 weights with self loops. Otherwise, use float\n",
        "    \"\"\"\n",
        "    n = W.shape[0]\n",
        "    W = W / 10000.\n",
        "    W2, W_mask = W * W, np.ones([n, n]) - np.identity(n)\n",
        "    # refer to Eq.10\n",
        "    W = np.exp(-W2 / sigma2) * (np.exp(-W2 / sigma2) >= epsilon) * W_mask\n",
        "\n",
        "    # If using the gat version of this, round to 0/1 and include self loops\n",
        "    if gat_version:\n",
        "      W[W>0] = 1\n",
        "      W += np.identity(n)\n",
        "\n",
        "    return W\n",
        "\n",
        "class TrafficDataset(InMemoryDataset):\n",
        "    \"\"\"\n",
        "    Dataset for Graph Neural Networks.\n",
        "    \"\"\"\n",
        "    def __init__(self, config, W, root='', drop_nodes=False, drop_rate = 0.0,transform=None, pre_transform=None):\n",
        "        self.config = config\n",
        "        self.W = W\n",
        "        self.drop_nodes = drop_nodes\n",
        "        self.drop_rate = drop_rate\n",
        "        # ipdb.set_trace()\n",
        "        super().__init__(root, transform, pre_transform) # would call __init__ of Class InMemoryDataset\n",
        "        self.data, self.slices, self.n_node, self.mean, self.std_dev = torch.load(self.processed_paths[0])\n",
        "\n",
        "    @property\n",
        "    def raw_file_names(self):\n",
        "        return [os.path.join(self.raw_dir, 'PeMSD7_V_228.csv')]\n",
        "\n",
        "    @property\n",
        "    def processed_file_names(self):\n",
        "        return ['./data_LA_{}_{}.pt'.format(self.drop_rate, self.config['N_PRED'])]\n",
        "\n",
        "    def download(self):\n",
        "        copyfile('./dataset/PeMSD7_V_228.csv', os.path.join(self.raw_dir, 'PeMSD7_V_228.csv'))\n",
        "\n",
        "    def process(self):\n",
        "        \"\"\"\n",
        "        Process the raw datasets into saved .pt dataset for later use.\n",
        "        Note that any self.fields here wont exist if loading straight from the .pt file\n",
        "        \"\"\"\n",
        "        # Data Preprocessing and loading\n",
        "        # ipdb.set_trace()\n",
        "        data = pd.read_csv(self.raw_file_names[0], header=None).values\n",
        "\n",
        "        # Technically using the validation and test datasets here, but it's fine, would normally get the\n",
        "        # mean and std_dev from a large dataset\n",
        "        mean =  np.mean(data)\n",
        "        std_dev = np.std(data)\n",
        "        data = z_score(data, np.mean(data), np.std(data))\n",
        "\n",
        "        _, n_node = data.shape\n",
        "        n_window = self.config['N_PRED'] + self.config['N_HIST']\n",
        "\n",
        "        edge_index_ls_o = []\n",
        "        edge_index_ls_d = []\n",
        "        edge_attr = []\n",
        "        for i in range(n_node):\n",
        "          for j in range(n_node):\n",
        "            if self.W[i,j] != 0:\n",
        "              edge_index_ls_o.append(i)\n",
        "              edge_index_ls_d.append(j)\n",
        "              edge_attr.append(self.W[i,j])\n",
        "        edge_index = torch.tensor([edge_index_ls_o, edge_index_ls_d], dtype=torch.long)\n",
        "        edge_attr = torch.tensor(edge_attr).resize_(edge_index.shape[1], 1)\n",
        "\n",
        "        sequences = []\n",
        "        # T x F x N\n",
        "        for i in range(self.config['N_DAYS']):\n",
        "            for j in range(self.config['N_SLOT']):\n",
        "                # for each time point construct a different graph with data object\n",
        "                # Docs here: https://pytorch-geometric.readthedocs.io/en/latest/modules/data.html#torch_geometric.data.Data\n",
        "                g = Data()\n",
        "                g.__num_nodes__ = n_node\n",
        "\n",
        "                g.edge_index = edge_index\n",
        "                g.edge_attr  = edge_attr\n",
        "\n",
        "                # (F,N) switched to (N,F)\n",
        "                sta = i * self.config['N_DAY_SLOT'] + j\n",
        "                end = sta + n_window\n",
        "                # [21, 228]\n",
        "\n",
        "                full_window = np.swapaxes(data[sta:end, :], 0, 1) # https://numpy.org/doc/stable/reference/generated/numpy.swapaxes.html\n",
        "                x = torch.FloatTensor(full_window[:, 0:self.config['N_HIST']])\n",
        "                if self.drop_nodes:\n",
        "                  from filling_strategies import filling\n",
        "                  from utils import get_missing_feature_mask\n",
        "                  # randomly remove all of a nodes features\n",
        "                  missing_feature_mask = get_missing_feature_mask(rate=self.drop_rate, n_nodes=n_node, n_features = self.config['N_HIST'], type=\"structural\")\n",
        "                  x[~missing_feature_mask] = float(\"nan\") # filling missing position using nan\n",
        "                  filled_feature = filling(\"feature_propagation\", edge_index, x, missing_feature_mask, num_iterations=40)\n",
        "\n",
        "                  x = torch.where(missing_feature_mask, x, filled_feature)\n",
        "\n",
        "                g.x = x\n",
        "                g.y = torch.FloatTensor(full_window[:, self.config['N_HIST']::])\n",
        "                g.train_mask = missing_feature_mask[:, 0]\n",
        "                sequences += [g]\n",
        "\n",
        "        # Make the actual dataset\n",
        "        data, slices = self.collate(sequences)\n",
        "        torch.save((data, slices, n_node, mean, std_dev), self.processed_paths[0])\n",
        "\n",
        "def get_splits(dataset: TrafficDataset, n_slot, splits):\n",
        "    \"\"\"\n",
        "    Given the data, split it into random subsets of train, val, and test as given by splits\n",
        "    :param dataset: TrafficDataset object to split\n",
        "    :param n_slot: Number of possible sliding windows in a day\n",
        "    :param splits: (train, val, test) ratios\n",
        "    \"\"\"\n",
        "    split_train, split_val, _ = splits\n",
        "    i = n_slot*split_train\n",
        "    j = n_slot*split_val\n",
        "    train = dataset[:i]\n",
        "    val = dataset[i:i+j]\n",
        "    test = dataset[i+j:]\n",
        "\n",
        "    return train, val, test\n"
      ]
    },
    {
      "cell_type": "markdown",
      "metadata": {
        "id": "ZoXlf4MtYrbz"
      },
      "source": [
        "# Build the Model\n",
        "\n",
        "Using PyG's built in layers. \n",
        "\n",
        "Ths model is a Pytorch model containing an initialization function for setting up the model architecture, and a forward function for performing a forward pass of data through the model."
      ]
    },
    {
      "cell_type": "code",
      "execution_count": 4,
      "metadata": {
        "id": "B7jt96q77EZF"
      },
      "outputs": [],
      "source": [
        "import torch\n",
        "import torch.nn.functional as F\n",
        "from torch_geometric.nn import GATConv\n",
        "class ST_GAT(torch.nn.Module):\n",
        "\n",
        "    def __init__(self, in_channels, out_channels, n_nodes, device, heads=8, dropout=0.0):\n",
        "        \"\"\"\n",
        "        Initialize the ST-GAT model\n",
        "        :param in_channels Number of input channels\n",
        "        :param out_channels Number of output channels\n",
        "        :param n_nodes Number of nodes in the graph\n",
        "        :param heads Number of attention heads to use in graph\n",
        "        :param dropout Dropout probability on output of Graph Attention Network\n",
        "        \"\"\"\n",
        "        super(ST_GAT, self).__init__()\n",
        "        self.n_pred = out_channels\n",
        "        self.heads = heads\n",
        "        self.dropout = dropout\n",
        "        self.n_nodes = n_nodes\n",
        "\n",
        "        lstm1_hidden_size = 32\n",
        "        lstm2_hidden_size = 128\n",
        "        self.device = device\n",
        "\n",
        "        # single graph attentional layer with 8 attention heads\n",
        "        self.gat1 = GATConv(in_channels=in_channels, out_channels=in_channels,\n",
        "            heads=heads, dropout=0, concat=False)\n",
        "        \n",
        "        self.gat2 = GATConv(in_channels=in_channels, out_channels=in_channels,\n",
        "            heads=heads, dropout=0, concat=False)\n",
        "        \n",
        "        self.gat3 = GATConv(in_channels=in_channels, out_channels=in_channels,\n",
        "            heads=heads, dropout=0, concat=False)\n",
        "        \n",
        "\n",
        "        # add two LSTM layers\n",
        "        self.lstm1 = torch.nn.LSTM(input_size=self.n_nodes, hidden_size=lstm1_hidden_size, num_layers=1)\n",
        "        for name, param in self.lstm1.named_parameters():\n",
        "            if 'bias' in name:\n",
        "                torch.nn.init.constant_(param, 0.0)\n",
        "            elif 'weight' in name:\n",
        "                torch.nn.init.xavier_uniform_(param)\n",
        "        self.lstm2 = torch.nn.LSTM(input_size=lstm1_hidden_size, hidden_size=lstm2_hidden_size, num_layers=1)\n",
        "        for name, param in self.lstm1.named_parameters():\n",
        "            if 'bias' in name:\n",
        "                torch.nn.init.constant_(param, 0.0)\n",
        "            elif 'weight' in name:\n",
        "                torch.nn.init.xavier_uniform_(param)\n",
        "\n",
        "        # fully-connected neural network\n",
        "        self.linear = torch.nn.Linear(lstm2_hidden_size, self.n_nodes*self.n_pred)\n",
        "        torch.nn.init.xavier_uniform_(self.linear.weight)\n",
        "    \n",
        "        def attn(self, lstm_output, h_t):\n",
        "            # lstm_output [3, 10, 16]  h_t[10, 16]\n",
        "            h_t = h_t.unsqueeze(0)\n",
        "            # [10, 16, 1]\n",
        "            h_t = h_t.permute(1, 2, 0)\n",
        "            lstm_output = lstm_output.permute(1, 0, 2)\n",
        "\n",
        "            attn_weights = torch.bmm(lstm_output, h_t)\n",
        "            attn_weights = attn_weights.permute(1, 0, 2).squeeze()\n",
        "\n",
        "            # [3, 10]\n",
        "            attention = F.softmax(attn_weights, 1)\n",
        "            # bmm: [10, 16, 3] [10, 3, 1]\n",
        "\n",
        "            attn_out = torch.bmm(lstm_output.transpose(1, 2), attention.unsqueeze(-1).transpose(1,0))\n",
        "            return attn_out.squeeze()\n",
        "\n",
        "    def forward(self, data, device):\n",
        "        \"\"\"\n",
        "        Forward pass of the ST-GAT model\n",
        "        :param data Data to make a pass on\n",
        "        :param device Device to operate on\n",
        "        \"\"\"\n",
        "        x, edge_index = data.x, data.edge_index\n",
        "        # apply dropout\n",
        "        if device == 'cpu':\n",
        "            x = torch.FloatTensor(x)\n",
        "        else:\n",
        "            x = torch.cuda.FloatTensor(x)\n",
        "\n",
        "        # gat layer: output of gat: [11400, 12]\n",
        "        x = self.gat1(x, edge_index)\n",
        "        \n",
        "        bns1 = torch.nn.BatchNorm1d(x.shape[1]).to(device)\n",
        "        x = bns1(x)\n",
        "        x = F.dropout(x, self.dropout, training=self.training)\n",
        "        x = self.gat2(x, edge_index)\n",
        "        x = F.dropout(x, self.dropout, training=self.training)\n",
        "        x = self.gat3(x, edge_index)\n",
        "        x = F.dropout(x, self.dropout, training=self.training)\n",
        "\n",
        "        # RNN: 2 LSTM\n",
        "        # [batchsize*n_nodes, seq_length] -> [batch_size, n_nodes, seq_length]\n",
        "        batch_size = data.num_graphs\n",
        "        n_node = int(data.num_nodes/batch_size)\n",
        "        x = torch.reshape(x, (batch_size, n_node, data.num_features))\n",
        "        # for lstm: x should be (seq_length, batch_size, n_nodes)\n",
        "        # sequence length = 12, batch_size = 50, n_node = 228\n",
        "        x = torch.movedim(x, 2, 0)\n",
        "        # [12, 50, 228] -> [12, 50, 32]\n",
        "        x, _ = self.lstm1(x)\n",
        "        bns2 = torch.nn.BatchNorm1d(x.shape[1]).to(device)\n",
        "        x = bns2(x)\n",
        "        x = F.dropout(x, self.dropout, training=self.training)\n",
        "        # [12, 50, 32] -> [12, 50, 128]\n",
        "        x, _ = self.lstm2(x)\n",
        "        bns3 = torch.nn.BatchNorm1d(x.shape[1]).to(device)\n",
        "        x = bns3(x)\n",
        "        x = F.dropout(x, self.dropout, training=self.training)\n",
        "        # ipdb.set_trace()\n",
        "        # Output contains h_t for each timestep, only the last one has all input's accounted for\n",
        "        # [12, 50, 128] -> [50, 128]\n",
        "        x = torch.squeeze(x[-1, :, :])\n",
        "        # [50, 128] -> [50, 228*9]\n",
        "        x = self.linear(x)\n",
        "\n",
        "        # Now reshape into final output\n",
        "        s = x.shape\n",
        "        # [50, 228*9] -> [50, 228, 9]\n",
        "        x = torch.reshape(x, (s[0], self.n_nodes, self.n_pred))\n",
        "        # [50, 228, 9] ->  [11400, 9]\n",
        "        x = torch.reshape(x, (s[0]*self.n_nodes, self.n_pred))\n",
        "        return x\n"
      ]
    },
    {
      "cell_type": "markdown",
      "metadata": {
        "id": "W42pHHlz7GUv"
      },
      "source": [
        "## Create Train and Evaluation functions\n",
        "\n",
        "Create a train function which performs a forward and a backward pass using the model.\n",
        "\n",
        "Create an evaluation function which performs only a forward pass using the model.\n",
        "\n",
        "These functions will be used in various stages of overall model training and testing."
      ]
    },
    {
      "cell_type": "code",
      "execution_count": 5,
      "metadata": {
        "id": "mcifitQO7uag"
      },
      "outputs": [],
      "source": [
        "@torch.no_grad()\n",
        "def eval(model, device, dataloader, type=''):\n",
        "    \"\"\"\n",
        "    Evaluation function to evaluate model on data\n",
        "    :param model Model to evaluate\n",
        "    :param device Device to evaluate on\n",
        "    :param dataloader Data loader\n",
        "    :param type Name of evaluation type, e.g. Train/Val/Test\n",
        "    \"\"\"\n",
        "    model.eval()\n",
        "    model.to(device)\n",
        "\n",
        "    mae = 0\n",
        "    rmse = 0\n",
        "    mape = 0\n",
        "    n = 0\n",
        "\n",
        "    # Evaluate model on all data\n",
        "    for i, batch in enumerate(dataloader):\n",
        "        batch = batch.to(device)\n",
        "        if batch.x.shape[0] == 1:\n",
        "            pass\n",
        "        else:\n",
        "            with torch.no_grad():\n",
        "                pred = model(batch, device)\n",
        "            truth = batch.y.view(pred.shape)\n",
        "            if i == 0:\n",
        "                y_pred = torch.zeros(len(dataloader), pred.shape[0], pred.shape[1])\n",
        "                y_truth = torch.zeros(len(dataloader), pred.shape[0], pred.shape[1])\n",
        "            truth = un_z_score(truth, dataloader.dataset.mean, dataloader.dataset.std_dev)\n",
        "            pred = un_z_score(pred, dataloader.dataset.mean, dataloader.dataset.std_dev)\n",
        "            y_pred[i, :pred.shape[0], :] = pred\n",
        "            y_truth[i, :pred.shape[0], :] = truth\n",
        "            rmse += RMSE(truth, pred)\n",
        "            mae += MAE(truth, pred)\n",
        "            mape += MAPE(truth, pred)\n",
        "            n += 1\n",
        "    rmse, mae, mape = rmse / n, mae / n, mape / n\n",
        "\n",
        "    # print(f'{type}, MAE: {mae}, RMSE: {rmse}, MAPE: {mape}')\n",
        "\n",
        "    #get the average score for each metric in each batch\n",
        "    return mae, rmse, mape, y_pred, y_truth\n",
        "\n",
        "def train(model, device, dataloader, optimizer, loss_fn, epoch):\n",
        "    \"\"\"\n",
        "    Evaluation function to evaluate model on data\n",
        "    :param model Model to evaluate\n",
        "    :param device Device to evaluate on\n",
        "    :param dataloader Data loader\n",
        "    :param optimizer Optimizer to use\n",
        "    :param loss_fn Loss function\n",
        "    :param epoch Current epoch\n",
        "    \"\"\"\n",
        "    model.train()\n",
        "    # leave=False to remove process bar after one epoch has completed\n",
        "    for _, batch in enumerate(tqdm(dataloader, desc=f\"Epoch {epoch}\", leave=False)):\n",
        "        batch = batch.to(device)\n",
        "        optimizer.zero_grad()\n",
        "        y_pred = torch.squeeze(model(batch, device))\n",
        "        loss = loss_fn()(y_pred[batch.train_mask].float(), torch.squeeze(batch.y[batch.train_mask]).float())\n",
        "\n",
        "        l2_norm = sum(p.pow(2.0).sum() for p in model.parameters())\n",
        "        # loss = loss + 0.0001 * l2_norm\n",
        "\n",
        "        writer.add_scalar(\"Loss/train\", loss, epoch)\n",
        "        loss.backward()\n",
        "        optimizer.step()\n",
        "\n",
        "    return loss"
      ]
    },
    {
      "cell_type": "markdown",
      "metadata": {
        "id": "N6tXJUu38HGo"
      },
      "source": [
        "In order to evaluation the performance of the model, we need to define some evaluation metrics.  \n",
        "\n",
        "*   The Z-score normalizes data using mean and std deviation.\n",
        "*   MAPE is mean average percentage error. \n",
        "*   RMSE is root mean square error.\n",
        "*   MAE is mean absolute error. \n",
        "\n",
        "\n",
        "\n"
      ]
    },
    {
      "cell_type": "code",
      "execution_count": 6,
      "metadata": {
        "id": "0CP54Sdb8HRC"
      },
      "outputs": [],
      "source": [
        "def z_score(x, mean, std):\n",
        "    \"\"\"\n",
        "    Z-score normalization function: $z = (X - \\mu) / \\sigma $,\n",
        "    where z is the z-score, X is the value of the element,\n",
        "    $\\mu$ is the population mean, and $\\sigma$ is the standard deviation.\n",
        "    :param x: torch array, input array to be normalized.\n",
        "    :param mean: float, the value of mean.\n",
        "    :param std: float, the value of standard deviation.\n",
        "    :return: torch array, z-score normalized array.\n",
        "    \"\"\"\n",
        "    return (x - mean) / std\n",
        "\n",
        "def un_z_score(x_normed, mean, std):\n",
        "    \"\"\"\n",
        "    Undo the Z-score calculation\n",
        "    :param x_normed: torch array, input array to be un-normalized.\n",
        "    :param mean: float, the value of mean.\n",
        "    :param std: float, the value of standard deviation.\n",
        "    \"\"\"\n",
        "    return x_normed * std  + mean\n",
        "\n",
        "\n",
        "def MAPE(v, v_):\n",
        "    \"\"\"\n",
        "    Mean absolute percentage error, given as a % (e.g. 99 -> 99%)\n",
        "    :param v: torch array, ground truth.\n",
        "    :param v_: torch array, prediction.\n",
        "    :return: torch scalar, MAPE averages on all elements of input.\n",
        "    \"\"\"\n",
        "    return torch.mean(torch.abs((v_ - v)) /(v + 1e-15) * 100)\n",
        "\n",
        "\n",
        "def RMSE(v, v_):\n",
        "    \"\"\"\n",
        "    Mean squared error.\n",
        "    :param v: torch array, ground truth.\n",
        "    :param v_: torch array, prediction.\n",
        "    :return: torch scalar, RMSE averages on all elements of input.\n",
        "    \"\"\"\n",
        "    return torch.sqrt(torch.mean((v_ - v) ** 2))\n",
        "\n",
        "\n",
        "def MAE(v, v_):\n",
        "    \"\"\"\n",
        "    Mean absolute error.\n",
        "    :param v: torch array, ground truth.\n",
        "    :param v_: torch array, prediction.\n",
        "    :return: torch scalar, MAE averages on all elements of input.\n",
        "    \"\"\"\n",
        "    return torch.mean(torch.abs(v_ - v))"
      ]
    },
    {
      "cell_type": "markdown",
      "metadata": {
        "id": "RQmkAf1W7z2f"
      },
      "source": [
        "Now, let's put it all together. Let's use the `train` and `eval` functions along with the model and dataloadres to create a training function (`model_train`) and testing function (`model_test`).\n",
        "\n",
        "We also build in tensorboard support for logging of the training metrics over time.\n"
      ]
    },
    {
      "cell_type": "code",
      "execution_count": 7,
      "metadata": {
        "id": "iwQHMBp975LP"
      },
      "outputs": [],
      "source": [
        "import torch\n",
        "import torch.optim as optim\n",
        "from tqdm import tqdm\n",
        "import time\n",
        "import os\n",
        "import matplotlib.pyplot as plt\n",
        "\n",
        "from torch.utils.tensorboard import SummaryWriter\n",
        "\n",
        "def model_train(train_dataloader, val_dataloader, config, device):\n",
        "    \"\"\"\n",
        "    Train the ST-GAT model. Evaluate on validation dataset as you go.\n",
        "    :param train_dataloader Data loader of training dataset\n",
        "    :param val_dataloader Dataloader of val dataset\n",
        "    :param config configuration to use\n",
        "    :param device Device to evaluate on\n",
        "    \"\"\"\n",
        "\n",
        "    # Make the model. Each datapoint in the graph is 228x12: N x F (N = # nodes, F = time window)\n",
        "    model = ST_GAT(in_channels=config['N_HIST'], out_channels=config['N_PRED'], n_nodes=config['N_NODE'], device=device, dropout=config['DROPOUT'])\n",
        "    # reset the parameters to initial random value\n",
        "    # model.reset_parameters()\n",
        "    optimizer = optim.Adam(model.parameters(), lr=config['INITIAL_LR'], weight_decay=config['WEIGHT_DECAY'])\n",
        "    loss_fn = torch.nn.MSELoss\n",
        "    best_model = None\n",
        "    best_valid_mae = 99\n",
        "    model.to(device)\n",
        "\n",
        "    # For every epoch, train the model on training dataset. Evaluate model on validation dataset\n",
        "    for epoch in range(config['EPOCHS']):\n",
        "        loss = train(model, device, train_dataloader, optimizer, loss_fn, epoch)\n",
        "        # print(f\"Loss: {loss:.3f}\")\n",
        "        train_mae, train_rmse, train_mape, _, _ = eval(model, device, train_dataloader, 'Train')\n",
        "        val_mae, val_rmse, val_mape, _, _ = eval(model, device, val_dataloader, 'Valid')\n",
        "\n",
        "        writer.add_scalar(f\"MAE/train\", train_mae, epoch)\n",
        "        writer.add_scalar(f\"RMSE/train\", train_rmse, epoch)\n",
        "        writer.add_scalar(f\"MAPE/train\", train_mape, epoch)\n",
        "        writer.add_scalar(f\"MAE/val\", val_mae, epoch)\n",
        "        writer.add_scalar(f\"RMSE/val\", val_rmse, epoch)\n",
        "        writer.add_scalar(f\"MAPE/val\", val_mape, epoch)\n",
        "        if val_mae < best_valid_mae:\n",
        "          best_model = model\n",
        "          \n",
        "        #   print(f\"Best MAE/val\", val_mae.cpu().detach().numpy(), epoch)\n",
        "          best_valid_mae = val_mae\n",
        "          best_val_rmse = val_rmse\n",
        "          best_val_mape = val_mape\n",
        "\n",
        "    print(f\"Final Best MAE/val\", best_valid_mae.cpu().detach().numpy(), epoch)\n",
        "    # Save the model\n",
        "    print()\n",
        "    timestr = time.strftime(\"%m-%d-%H%M%S\")\n",
        "    torch.save({\n",
        "            \"epoch\": epoch,\n",
        "            \"model_state_dict\": best_model.state_dict(),\n",
        "            \"optimizer_state_dict\": optimizer.state_dict(),\n",
        "            \"loss\": loss,\n",
        "            \"best_valid_mae\":best_valid_mae,\n",
        "            \"best_val_rmse\":best_val_rmse,\n",
        "            \"best_val_mape\":best_val_mape,\n",
        "            \"config\":config,\n",
        "            }, os.path.join(config[\"CHECKPOINT_DIR\"], f\"LA_model_{config['N_PRED']}_{config['drop_rate']}_{timestr}.pt\"))\n",
        "\n",
        "    return best_model\n",
        "\n",
        "def model_test(model, test_dataloader, device, config):\n",
        "    \"\"\"\n",
        "    Test the ST-GAT model\n",
        "    :param test_dataloader Data loader of test dataset\n",
        "    :param device Device to evaluate on\n",
        "    \"\"\"\n",
        "    _, _, _, y_pred, y_truth = eval(model, device, test_dataloader, 'Test')\n"
      ]
    },
    {
      "cell_type": "markdown",
      "metadata": {
        "id": "zUj42a8B_6wE"
      },
      "source": [
        "##Start training\n",
        "\n",
        "Now with all code in place, let's set up config, load our dataset, and start training!"
      ]
    },
    {
      "cell_type": "code",
      "execution_count": null,
      "metadata": {},
      "outputs": [],
      "source": [
        "%load_ext tensorboard\n",
        "%tensorboard --logdir ./runs --host localhost --port 8888"
      ]
    },
    {
      "cell_type": "markdown",
      "metadata": {
        "id": "OyZlmf8BGZx5"
      },
      "source": [
        "Now, create your dataloaders and start training!\n",
        "\n",
        "In our default configuration, we train for 60 epochs with a batch size of 50. You can view your training progress in the tensorboard above by clicking the \"refresh\" button to see new data. Training and validation performance are updated every 5 epochs."
      ]
    },
    {
      "cell_type": "code",
      "execution_count": null,
      "metadata": {
        "colab": {
          "base_uri": "https://localhost:8080/"
        },
        "id": "EFwnhhQJCEOO",
        "outputId": "909830ca-8943-4795-9546-d52ed27d2960"
      },
      "outputs": [],
      "source": [
        "from torch_geometric.loader import DataLoader\n",
        "\n",
        "random.seed(args.seed)\n",
        "np.random.seed(args.seed)\n",
        "torch.manual_seed(args.seed)\n",
        "torch.cuda.manual_seed_all(args.seed)\n",
        "\n",
        "for each_N_PRED in [3,6,9]:\n",
        "    for each_drop_rate in [0.0, 0.3, 0.6, 0.9]:\n",
        "        # Make a tensorboard writer\n",
        "        writer = SummaryWriter()    \n",
        "# Constant config to use throughout\n",
        "        config = {\n",
        "            'BATCH_SIZE': 128,\n",
        "            'EPOCHS': 200,\n",
        "            'WEIGHT_DECAY': 5e-5,\n",
        "            'INITIAL_LR': 3e-4,\n",
        "            'CHECKPOINT_DIR': './runs',\n",
        "            'N_PRED': each_N_PRED,\n",
        "            'N_HIST': 12,\n",
        "            'DROPOUT': 0.4,\n",
        "            # number of possible 5 minute measurements per day\n",
        "            'N_DAY_SLOT': 288,\n",
        "            # number of days worth of data in the dataset\n",
        "            'N_DAYS': 44,\n",
        "            # If false, use GCN paper weight matrix, if true, use GAT paper weight matrix\n",
        "            'USE_GAT_WEIGHTS': True,\n",
        "            'N_NODE': 228,\n",
        "            \"drop_nodes\": True,\n",
        "            \"drop_rate\": each_drop_rate\n",
        "        }\n",
        "\n",
        "        # Number of possible windows in a day\n",
        "        config['N_SLOT']= config['N_DAY_SLOT'] - (config['N_PRED']+config['N_HIST']) + 1\n",
        "\n",
        "        # Load the weight and dataset dataset\n",
        "        distances = pd.read_csv('./dataset/PeMSD7_W_228.csv', header=None).values\n",
        "        W = distance_to_weight(distances, gat_version=config['USE_GAT_WEIGHTS'])\n",
        "        dataset = TrafficDataset(config, W, drop_nodes = config['drop_nodes'], drop_rate=config['drop_rate'])\n",
        "\n",
        "        # total of 44 days in the dataset, use 34 for training, 5 for val, 5 for test\n",
        "        d_train, d_val, d_test = get_splits(dataset, config['N_SLOT'], (34, 5, 5))\n",
        "        train_dataloader = DataLoader(d_train, batch_size=config['BATCH_SIZE'], shuffle=True)\n",
        "        val_dataloader = DataLoader(d_val, batch_size=config['BATCH_SIZE'], shuffle=True)\n",
        "        test_dataloader = DataLoader(d_test, batch_size=config['BATCH_SIZE'], shuffle=False)\n",
        "\n",
        "        # Get gpu if you can\n",
        "        device = 'cuda' if torch.cuda.is_available() else 'cpu'\n",
        "        print(f\"Using {device}\")\n",
        "\n",
        "        # Configure and train model\n",
        "        config['N_NODE'] = dataset.n_node\n",
        "        model = model_train(train_dataloader, val_dataloader, config, device)\n",
        "\n",
        "# os.system(\"shutdown\")"
      ]
    },
    {
      "cell_type": "markdown",
      "metadata": {
        "id": "0nm7Xd8CI3Js"
      },
      "source": [
        "## Test the model\n",
        "\n",
        "Now that we have a trained model, we can test it on the test dataset and visualize its performance"
      ]
    },
    {
      "cell_type": "code",
      "execution_count": 23,
      "metadata": {},
      "outputs": [
        {
          "name": "stdout",
          "output_type": "stream",
          "text": [
            "Using cuda\n"
          ]
        }
      ],
      "source": [
        "from torch_geometric.loader import DataLoader\n",
        "\n",
        "each_N_PRED = 9\n",
        "each_drop_rate = 0.6\n",
        "\n",
        "# Make a tensorboard writer\n",
        "writer = SummaryWriter()    \n",
        "# Constant config to use throughout\n",
        "config = {\n",
        "    'BATCH_SIZE': 128,\n",
        "    'EPOCHS': 200,\n",
        "    'WEIGHT_DECAY': 5e-5,\n",
        "    'INITIAL_LR': 3e-4,\n",
        "    'CHECKPOINT_DIR': './runs',\n",
        "    'N_PRED': each_N_PRED,\n",
        "    'N_HIST': 12,\n",
        "    'DROPOUT': 0.4,\n",
        "    # number of possible 5 minute measurements per day\n",
        "    'N_DAY_SLOT': 288,\n",
        "    # number of days worth of data in the dataset\n",
        "    'N_DAYS': 44,\n",
        "    # If false, use GCN paper weight matrix, if true, use GAT paper weight matrix\n",
        "    'USE_GAT_WEIGHTS': True,\n",
        "    'N_NODE': 228,\n",
        "    \"drop_nodes\": True,\n",
        "    \"drop_rate\": each_drop_rate\n",
        "}\n",
        "\n",
        "# Number of possible windows in a day\n",
        "config['N_SLOT']= config['N_DAY_SLOT'] - (config['N_PRED']+config['N_HIST']) + 1\n",
        "\n",
        "# Load the weight and dataset dataset\n",
        "distances = pd.read_csv('./dataset/PeMSD7_W_228.csv', header=None).values\n",
        "W = distance_to_weight(distances, gat_version=config['USE_GAT_WEIGHTS'])\n",
        "dataset = TrafficDataset(config, W, drop_nodes = config['drop_nodes'], drop_rate=config['drop_rate'])\n",
        "\n",
        "# total of 44 days in the dataset, use 34 for training, 5 for val, 5 for test\n",
        "d_train, d_val, d_test = get_splits(dataset, config['N_SLOT'], (34, 5, 5))\n",
        "train_dataloader = DataLoader(d_train, batch_size=config['BATCH_SIZE'], shuffle=True)\n",
        "val_dataloader = DataLoader(d_val, batch_size=config['BATCH_SIZE'], shuffle=True)\n",
        "test_dataloader = DataLoader(d_test, batch_size=config['BATCH_SIZE'], shuffle=False)\n",
        "\n",
        "# Get gpu if you can\n",
        "device = 'cuda' if torch.cuda.is_available() else 'cpu'\n",
        "print(f\"Using {device}\")\n",
        "\n",
        "# Configure and train model\n",
        "config['N_NODE'] = dataset.n_node"
      ]
    },
    {
      "cell_type": "code",
      "execution_count": 25,
      "metadata": {},
      "outputs": [
        {
          "data": {
            "text/plain": [
              "<All keys matched successfully>"
            ]
          },
          "execution_count": 25,
          "metadata": {},
          "output_type": "execute_result"
        }
      ],
      "source": [
        "model = ST_GAT(in_channels=config['N_HIST'], out_channels=config['N_PRED'], n_nodes=config['N_NODE'], dropout=config['DROPOUT'], device=device)\n",
        "model.load_state_dict(torch.load('./runs/LA_model_9_0.6_10-06-062441.pt')['model_state_dict'])"
      ]
    },
    {
      "cell_type": "code",
      "execution_count": 29,
      "metadata": {},
      "outputs": [],
      "source": [
        "for each_batch in DataLoader(dataset[:2], batch_size=2, shuffle=False):\n",
        "    each_batch\n",
        "    break"
      ]
    },
    {
      "cell_type": "code",
      "execution_count": 36,
      "metadata": {},
      "outputs": [
        {
          "data": {
            "text/plain": [
              "tensor([[71.2357, 68.8545, 68.6240,  ..., 69.8672, 70.4577, 69.1748],\n",
              "        [65.7203, 65.4864, 65.2532,  ..., 65.0907, 64.8097, 64.6802],\n",
              "        [67.9957, 67.1329, 66.7890,  ..., 67.0151, 66.9352, 66.4715],\n",
              "        ...,\n",
              "        [68.1020, 67.7732, 67.8331,  ..., 66.4935, 66.0979, 67.1722],\n",
              "        [67.0246, 67.5813, 67.8261,  ..., 66.5747, 66.8312, 66.9107],\n",
              "        [67.0642, 66.7972, 66.9349,  ..., 65.8113, 65.4922, 66.3162]])"
            ]
          },
          "execution_count": 36,
          "metadata": {},
          "output_type": "execute_result"
        }
      ],
      "source": [
        "un_z_score(each_batch.x[~each_batch.train_mask], dataset.mean, dataset.std_dev)"
      ]
    },
    {
      "cell_type": "code",
      "execution_count": 38,
      "metadata": {},
      "outputs": [
        {
          "data": {
            "text/plain": [
              "tensor(3.6367, device='cuda:0')"
            ]
          },
          "execution_count": 38,
          "metadata": {},
          "output_type": "execute_result"
        }
      ],
      "source": [
        "torch.load('./runs/LA_model_9_0.0_10-06-060956.pt')['best_valid_mae']"
      ]
    },
    {
      "cell_type": "code",
      "execution_count": 31,
      "metadata": {},
      "outputs": [
        {
          "ename": "NameError",
          "evalue": "name 'train_mask' is not defined",
          "output_type": "error",
          "traceback": [
            "\u001b[1;31m---------------------------------------------------------------------------\u001b[0m",
            "\u001b[1;31mNameError\u001b[0m                                 Traceback (most recent call last)",
            "Cell \u001b[1;32mIn [31], line 1\u001b[0m\n\u001b[1;32m----> 1\u001b[0m train_mask\n",
            "\u001b[1;31mNameError\u001b[0m: name 'train_mask' is not defined"
          ]
        }
      ],
      "source": [
        "train_mask"
      ]
    },
    {
      "cell_type": "code",
      "execution_count": 26,
      "metadata": {},
      "outputs": [],
      "source": [
        "_, _, _, y_pred, y_truth = eval(model, device, DataLoader(dataset[:2], batch_size=2, shuffle=False), 'Test')"
      ]
    },
    {
      "cell_type": "code",
      "execution_count": null,
      "metadata": {},
      "outputs": [],
      "source": []
    },
    {
      "cell_type": "code",
      "execution_count": 17,
      "metadata": {
        "id": "9-_urKxjI2gQ"
      },
      "outputs": [
        {
          "data": {
            "image/png": "[encoded data removed]",
            "text/plain": [
              "<Figure size 640x480 with 1 Axes>"
            ]
          },
          "metadata": {},
          "output_type": "display_data"
        }
      ],
      "source": [
        "def plot_prediction(test_dataloader, y_pred, y_truth, node, config):\n",
        "    # Calculate the truth\n",
        "    s = y_truth.shape\n",
        "    y_truth = y_truth.reshape(s[0], config['BATCH_SIZE'], config['N_NODE'], s[-1])\n",
        "    # just get the first prediction out for the nth node\n",
        "    y_truth = y_truth[:, :, node, 0]\n",
        "    # Flatten to get the predictions for entire test dataset\n",
        "    y_truth = torch.flatten(y_truth)\n",
        "    day0_truth = y_truth[:config['N_SLOT']]\n",
        "\n",
        "\n",
        "    # Calculate the predicted\n",
        "    s = y_pred.shape\n",
        "    y_pred = y_pred.reshape(s[0], config['BATCH_SIZE'], config['N_NODE'], s[-1])\n",
        "    # just get the first prediction out for the nth node\n",
        "    y_pred = y_pred[:, :, node, 0]\n",
        "    # Flatten to get the predictions for entire test dataset\n",
        "    y_pred = torch.flatten(y_pred)\n",
        "    # Just grab the first day\n",
        "    day0_pred = y_pred[:config['N_SLOT']]\n",
        "    t = [t for t in range(0, config['N_SLOT']*5, 5)]\n",
        "    plt.plot(t, day0_pred, label='ST-GAT')\n",
        "    plt.plot(t, day0_truth, label='truth')\n",
        "    plt.xlabel('Time (minutes)')\n",
        "    plt.ylabel('Speed prediction')\n",
        "    plt.title('Predictions of traffic over time')\n",
        "    plt.legend()\n",
        "    plt.savefig('predicted_times.png')\n",
        "    plt.show()\n",
        "    \n",
        "_, _, _, y_pred, y_truth = eval(model, device, test_dataloader, 'Test')\n",
        "plot_prediction(test_dataloader, y_pred, y_truth, 0, config)"
      ]
    },
    {
      "cell_type": "code",
      "execution_count": 21,
      "metadata": {},
      "outputs": [],
      "source": [
        "for each_batch in test_dataloader:\n",
        "    each_batch\n",
        "    break"
      ]
    },
    {
      "cell_type": "code",
      "execution_count": 22,
      "metadata": {},
      "outputs": [
        {
          "data": {
            "text/plain": [
              "DataBatch(edge_index=[2, 242176], edge_attr=[242176, 1], x=[29184, 12], y=[29184, 3], train_mask=[29184], batch=[29184], ptr=[129])"
            ]
          },
          "execution_count": 22,
          "metadata": {},
          "output_type": "execute_result"
        }
      ],
      "source": [
        "each_batch"
      ]
    },
    {
      "cell_type": "code",
      "execution_count": null,
      "metadata": {},
      "outputs": [],
      "source": []
    }
  ],
  "metadata": {
    "accelerator": "GPU",
    "colab": {
      "collapsed_sections": [],
      "machine_shape": "hm",
      "provenance": []
    },
    "kernelspec": {
      "display_name": "Python 3.9.13 ('torch')",
      "language": "python",
      "name": "python3"
    },
    "language_info": {
      "codemirror_mode": {
        "name": "ipython",
        "version": 3
      },
      "file_extension": ".py",
      "mimetype": "text/x-python",
      "name": "python",
      "nbconvert_exporter": "python",
      "pygments_lexer": "ipython3",
      "version": "3.9.13"
    },
    "vscode": {
      "interpreter": {
        "hash": "d78bf273d1fbb16e9e4639b4db153700fc32e6075854c966333f4b75c7eb05cf"
      }
    }
  },
  "nbformat": 4,
  "nbformat_minor": 0
}
